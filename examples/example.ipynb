{
 "cells": [
  {
   "cell_type": "code",
   "execution_count": 1,
   "metadata": {
    "collapsed": false
   },
   "outputs": [],
   "source": [
    "%load_ext autoreload\n",
    "%autoreload 2"
   ]
  },
  {
   "cell_type": "code",
   "execution_count": 2,
   "metadata": {
    "collapsed": false
   },
   "outputs": [],
   "source": [
    "from pyaqadvisor import Tank, Stocking"
   ]
  },
  {
   "cell_type": "code",
   "execution_count": 3,
   "metadata": {
    "collapsed": false
   },
   "outputs": [
    {
     "name": "stdout",
     "output_type": "stream",
     "text": [
      "<Tank: 10g with Aquaclear 20> {}\n"
     ]
    }
   ],
   "source": [
    "t = Tank('10g')\n",
    "t.add_filter('Aquaclear 20')\n",
    "print t, t.stocking"
   ]
  },
  {
   "cell_type": "code",
   "execution_count": 4,
   "metadata": {
    "collapsed": false
   },
   "outputs": [
    {
     "name": "stdout",
     "output_type": "stream",
     "text": [
      "<Tank: 10g with Aquaclear 30> {'panda cory': 5, 'cardinal tetra': 5} 20 10 12 ('20', '10', '12') ('Aquaclear 30', '30')\n"
     ]
    }
   ],
   "source": [
    "t = Tank('10g').add_filter(\"AquaClear 30\").add_stocking(Stocking().add('cardinal tetra', 5).add('panda cory', 5))\n",
    "print t, t.stocking, t.length, t.depth, t.height, t.ldh, t.filter_"
   ]
  },
  {
   "cell_type": "code",
   "execution_count": 5,
   "metadata": {
    "collapsed": false
   },
   "outputs": [
    {
     "name": "stdout",
     "output_type": "stream",
     "text": [
      "http://aqadvisor.com/AqAdvisor.php?AquTankName=&AquListBoxTank=Choose&AquTankLength=20&AquTankDepth=10&AquTankHeight=12&AquListBoxFilter=Aquaclear%2030&AquTextFilterRate=30&AquListBoxFilter2=Choose&AquTextFilterRate2=N%2FA+&FormSubmit=Update&AquFilterString=&AquListBoxChooser=Panda%20Cory%20%28Corydoras%20panda%29&AquTextBoxQuantity=5&AquTextBoxRemoveQuantity=&AlreadySelected=&FilterMode=Display+all+species&AqTempUnit=F&AqVolUnit=gUS&AqLengthUnit=inch&AqSortType=cname&FilterQuantity=2&AqJuvMode=&AqSpeciesWindowSize=short&AqSearchMode=simple\n",
      "http://aqadvisor.com/AqAdvisor.php?AquTankName=&AquListBoxTank=Choose&AquTankLength=20&AquTankDepth=10&AquTankHeight=12&AquListBoxFilter=Aquaclear%2030&AquTextFilterRate=30&AquListBoxFilter2=Choose&AquTextFilterRate2=N%2FA+&FormSubmit=Update&AquFilterString=&AquListBoxChooser=Cardinal%20Tetra%20%28Paracheirodon%20axelrodi%29&AquTextBoxQuantity=5&AquTextBoxRemoveQuantity=&AlreadySelected=200909300155%3A5%3A%3A&FilterMode=Display+all+species&AqTempUnit=F&AqVolUnit=gUS&AqLengthUnit=inch&AqSortType=cname&FilterQuantity=2&AqJuvMode=&AqSpeciesWindowSize=short&AqSearchMode=simple\n"
     ]
    },
    {
     "data": {
      "text/plain": [
       "u'Your aquarium filtration capacity for above selected species is <b>194%</b>.<A HREF=AqHelp.php#FiltrationCapacity target=_blank><img border=0 alt=\"Help on Filtration capacity\" src=Images/Question11.png></A><BR>Recommended water change schedule: <b>28'"
      ]
     },
     "execution_count": 5,
     "metadata": {},
     "output_type": "execute_result"
    }
   ],
   "source": [
    "t.get_stocking_level()"
   ]
  },
  {
   "cell_type": "code",
   "execution_count": null,
   "metadata": {
    "collapsed": true
   },
   "outputs": [],
   "source": []
  }
 ],
 "metadata": {
  "kernelspec": {
   "display_name": "Python 2",
   "language": "python",
   "name": "python2"
  },
  "language_info": {
   "codemirror_mode": {
    "name": "ipython",
    "version": 2
   },
   "file_extension": ".py",
   "mimetype": "text/x-python",
   "name": "python",
   "nbconvert_exporter": "python",
   "pygments_lexer": "ipython2",
   "version": "2.7.6"
  }
 },
 "nbformat": 4,
 "nbformat_minor": 1
}
